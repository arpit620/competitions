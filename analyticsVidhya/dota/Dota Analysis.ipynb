{
 "cells": [
  {
   "cell_type": "code",
   "execution_count": 1,
   "metadata": {
    "collapsed": true
   },
   "outputs": [],
   "source": [
    "import numpy as np # linear algebra\n",
    "import pandas as pd # data processing, CSV file I/O (e.g. pd.read_csv)"
   ]
  },
  {
   "cell_type": "code",
   "execution_count": 2,
   "metadata": {
    "collapsed": true
   },
   "outputs": [],
   "source": [
    "heroes = pd.read_csv(\"data/hero_data.csv\")\n",
    "train9 = pd.read_csv(\"data/train9.csv\")\n",
    "train1 = pd.read_csv(\"data/train1.csv\")\n",
    "test9 = pd.read_csv(\"data/test9.csv\")\n",
    "test1 = pd.read_csv(\"data/test1.csv\")"
   ]
  },
  {
   "cell_type": "code",
   "execution_count": 3,
   "metadata": {
    "collapsed": true
   },
   "outputs": [],
   "source": [
    "train9['dataset'] = \"train9\"\n",
    "train1['dataset'] = \"train1\"\n",
    "test9['dataset'] = \"test9\"\n",
    "test1['dataset'] = \"test1\""
   ]
  },
  {
   "cell_type": "code",
   "execution_count": 5,
   "metadata": {},
   "outputs": [],
   "source": [
    "roles = pd.get_dummies(heroes['roles'].str.split(':', expand=True).stack()).sum(level=0).add_prefix('roles_')"
   ]
  },
  {
   "cell_type": "code",
   "execution_count": 10,
   "metadata": {
    "collapsed": true
   },
   "outputs": [],
   "source": [
    "heroes_roles = pd.concat([heroes,roles], axis=1)"
   ]
  },
  {
   "cell_type": "code",
   "execution_count": 11,
   "metadata": {},
   "outputs": [],
   "source": [
    "drop_hero_columns=['roles']\n",
    "heroes_roles.drop(drop_hero_columns,axis=1, inplace=True)\n",
    "#heroes_roles.head()"
   ]
  },
  {
   "cell_type": "code",
   "execution_count": 12,
   "metadata": {
    "collapsed": true
   },
   "outputs": [],
   "source": [
    "one_hot_hero_primary_attr = pd.get_dummies(heroes_roles.primary_attr)\n",
    "one_hot_hero_attack_type = pd.get_dummies(heroes_roles.attack_type)"
   ]
  },
  {
   "cell_type": "code",
   "execution_count": 13,
   "metadata": {
    "collapsed": true
   },
   "outputs": [],
   "source": [
    "#removing categorical features \n",
    "heroes_roles.drop(['primary_attr','attack_type'],axis=1,inplace=True)\n",
    "heroes_roles = pd.concat([heroes_roles, one_hot_hero_attack_type, one_hot_hero_primary_attr], axis = 1)"
   ]
  },
  {
   "cell_type": "code",
   "execution_count": 18,
   "metadata": {},
   "outputs": [],
   "source": [
    "full_data_train = pd.concat([train9, train1])\n",
    "train_merge = pd.merge(full_data_train, heroes_roles, on=\"hero_id\")\n",
    "\n",
    "#removing categorical features \n",
    "train_merge.drop(['id','num_wins'],axis=1,inplace=True)\n",
    "train_merge.to_csv(\"output/train.csv\")"
   ]
  },
  {
   "cell_type": "code",
   "execution_count": 16,
   "metadata": {
    "collapsed": true
   },
   "outputs": [],
   "source": []
  },
  {
   "cell_type": "code",
   "execution_count": null,
   "metadata": {
    "collapsed": true
   },
   "outputs": [],
   "source": []
  }
 ],
 "metadata": {
  "kernelspec": {
   "display_name": "Python 3",
   "language": "python",
   "name": "python3"
  },
  "language_info": {
   "codemirror_mode": {
    "name": "ipython",
    "version": 3
   },
   "file_extension": ".py",
   "mimetype": "text/x-python",
   "name": "python",
   "nbconvert_exporter": "python",
   "pygments_lexer": "ipython3",
   "version": "3.6.1"
  }
 },
 "nbformat": 4,
 "nbformat_minor": 2
}
