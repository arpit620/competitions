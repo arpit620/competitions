{
 "cells": [
  {
   "cell_type": "code",
   "execution_count": 1,
   "metadata": {
    "_cell_guid": "5c27cdde-c3bb-45d4-bba8-026dcdd84c17",
    "_uuid": "87ff1f9c3a6b6a55250cf64afdd5ea04129c4bba"
   },
   "outputs": [
    {
     "name": "stdout",
     "output_type": "stream",
     "text": [
      "hero_data.csv\n",
      "test1.csv\n",
      "test9.csv\n",
      "train1.csv\n",
      "train9.csv\n",
      "\n"
     ]
    }
   ],
   "source": [
    "# This Python 3 environment comes with many helpful analytics libraries installed\n",
    "# It is defined by the kaggle/python docker image: https://github.com/kaggle/docker-python\n",
    "# For example, here's several helpful packages to load in \n",
    "\n",
    "import numpy as np # linear algebra\n",
    "import pandas as pd # data processing, CSV file I/O (e.g. pd.read_csv)\n",
    "\n",
    "# Input data files are available in the \"../input/\" directory.\n",
    "# For example, running this (by clicking run or pressing Shift+Enter) will list the files in the input directory\n",
    "\n",
    "from subprocess import check_output\n",
    "print(check_output([\"ls\", \"../input\"]).decode(\"utf8\"))\n",
    "\n",
    "# Any results you write to the current directory are saved as output."
   ]
  },
  {
   "cell_type": "code",
   "execution_count": 2,
   "metadata": {
    "_cell_guid": "590748b5-840b-495a-942b-23127422af1e",
    "_uuid": "83dc285af116be801e088c245044cdd83c3bbaa5",
    "collapsed": true
   },
   "outputs": [],
   "source": [
    "heroes = pd.read_csv(\"../input/hero_data.csv\")\n",
    "train9 = pd.read_csv(\"../input/train9.csv\")\n",
    "train1 = pd.read_csv(\"../input/train1.csv\")\n",
    "test9 = pd.read_csv(\"../input/test9.csv\")\n",
    "test1 = pd.read_csv(\"../input/test1.csv\")"
   ]
  },
  {
   "cell_type": "code",
   "execution_count": null,
   "metadata": {
    "_cell_guid": "e010ce2d-da0a-410f-8789-37c12fdb6485",
    "_uuid": "c57e8b494b339bd30d2e68d324b56f6933a74aa6",
    "collapsed": true
   },
   "outputs": [],
   "source": [
    "train9['dataset'] = \"train9\"\n",
    "train1['dataset'] = \"train1\"\n",
    "test9['dataset'] = \"test9\"\n",
    "test1['dataset'] = \"test1\""
   ]
  },
  {
   "cell_type": "code",
   "execution_count": null,
   "metadata": {
    "_cell_guid": "e85fe4b0-dcaf-4ed6-b6e1-2f45355f6b9b",
    "_uuid": "8138188d45227ef49a7af1582dd69de5091de0f8",
    "collapsed": true
   },
   "outputs": [],
   "source": [
    "temp = heroes.iloc[:,:5]"
   ]
  },
  {
   "cell_type": "code",
   "execution_count": null,
   "metadata": {
    "_cell_guid": "48aee884-ceb9-4af5-bc2f-f6d5f58b78bf",
    "_uuid": "5761215557b2711ef2a9365358dbd6b5e9c0a099",
    "collapsed": true
   },
   "outputs": [],
   "source": [
    "roles_count = pd.DataFrame(temp['roles'].str.split(':').apply(len))\n",
    "roles_count.columns = ['roles_count']\n",
    "roles_count.dtypes"
   ]
  },
  {
   "cell_type": "code",
   "execution_count": null,
   "metadata": {
    "_cell_guid": "70c3925b-0822-46e7-8a7b-d6ead9fd49c5",
    "_uuid": "4ecddee7e7cbb42f7346ea1a2d43616fbe398778",
    "collapsed": true
   },
   "outputs": [],
   "source": [
    "roles = pd.get_dummies(temp['roles'].str.split(':', expand=True).stack()).sum(level=0).add_prefix('roles_')"
   ]
  },
  {
   "cell_type": "code",
   "execution_count": null,
   "metadata": {
    "_cell_guid": "a37c8717-8e3f-4f60-ad49-bd79c27b5a5b",
    "_uuid": "3eb2fd9e3fbadd1d039addb57d5361641956f634",
    "collapsed": true
   },
   "outputs": [],
   "source": [
    "heroes_roles = pd.concat([heroes,roles, roles_count ], axis=1)"
   ]
  },
  {
   "cell_type": "code",
   "execution_count": null,
   "metadata": {
    "_cell_guid": "5b0146d0-f7be-4a86-9efd-ec8678cd3462",
    "_uuid": "22c22e9795b9822651466c4da61a1a89cff5f58f",
    "collapsed": true
   },
   "outputs": [],
   "source": [
    "heroes_roles.columns"
   ]
  },
  {
   "cell_type": "code",
   "execution_count": null,
   "metadata": {
    "_cell_guid": "8a036ec0-87e3-4ca4-8be6-a9cac5aa7ec3",
    "_uuid": "33851b9eb41d2a71978c95154bbdb72efefb0dd7",
    "collapsed": true
   },
   "outputs": [],
   "source": [
    "drop_hero_columns=['roles']\n",
    "heroes_roles.drop(drop_hero_columns,axis=1, inplace=True)\n"
   ]
  },
  {
   "cell_type": "code",
   "execution_count": null,
   "metadata": {
    "_cell_guid": "b58c75a1-d172-43fb-a7fd-54ee9fe3f8ef",
    "_uuid": "2fa32111287633709af393124d9c50d0e19f924d",
    "collapsed": true
   },
   "outputs": [],
   "source": [
    "heroes_roles.head()"
   ]
  },
  {
   "cell_type": "code",
   "execution_count": null,
   "metadata": {
    "_cell_guid": "6e2d57d5-4787-4a7b-964c-c73e07245370",
    "_uuid": "4aa05c693c4ea2d12ae32ee66cfd9cff83f88463",
    "collapsed": true
   },
   "outputs": [],
   "source": [
    "heroes_roles['custom_proj_move'] = heroes_roles['projectile_speed'] / heroes_roles['move_speed']\n",
    "heroes_roles['custom_attach_turn'] = heroes_roles['attack_rate'] / heroes['turn_rate']\n",
    "heroes_roles['custom_baseStrength_range'] = heroes_roles['base_strength'] / heroes['attack_range']\n",
    "heroes_roles['custom_str_agi'] = heroes_roles['base_strength'] / heroes['base_agility']\n",
    "heroes_roles['custom_str_int'] = heroes_roles['base_strength'] / heroes['base_intelligence']\n",
    "heroes_roles['custom_agi_int'] = heroes_roles['base_agility'] / heroes['base_intelligence']"
   ]
  },
  {
   "cell_type": "code",
   "execution_count": null,
   "metadata": {
    "_cell_guid": "08ab2329-4cc1-49a4-910f-78e790d930ef",
    "_uuid": "0f1773436b9dc5eabedf3ca1837ac5bd3a59cd40",
    "collapsed": true
   },
   "outputs": [],
   "source": [
    "one_hot_hero_primary_attr = pd.get_dummies(heroes_roles.primary_attr)\n",
    "one_hot_hero_attack_type = pd.get_dummies(heroes_roles.attack_type)"
   ]
  },
  {
   "cell_type": "code",
   "execution_count": null,
   "metadata": {
    "_cell_guid": "03883182-6c2e-4c48-bcb1-f30215be05e7",
    "_uuid": "322e17244813799e1712384621ad72705b579e03",
    "collapsed": true
   },
   "outputs": [],
   "source": [
    "#removing categorical features \n",
    "heroes_roles.drop(['primary_attr','attack_type'],axis=1,inplace=True)"
   ]
  },
  {
   "cell_type": "code",
   "execution_count": null,
   "metadata": {
    "_cell_guid": "0fb04235-0eea-46e8-9604-908b3f608e2b",
    "_uuid": "915df3bc4978a76e51aaff7ef1a8980f661ae431",
    "collapsed": true
   },
   "outputs": [],
   "source": [
    "heroes_roles = pd.concat([heroes_roles, one_hot_hero_attack_type, one_hot_hero_primary_attr], axis = 1)"
   ]
  },
  {
   "cell_type": "code",
   "execution_count": null,
   "metadata": {
    "_cell_guid": "640fd683-1962-412b-98b6-f0ce02b0d0ae",
    "_uuid": "5bf79cef31d5cf4fea86cff03568797029c4ca21",
    "collapsed": true
   },
   "outputs": [],
   "source": [
    "heroes_roles.head()"
   ]
  },
  {
   "cell_type": "code",
   "execution_count": null,
   "metadata": {
    "_cell_guid": "c67660a3-7651-4517-8963-b6ea0e41a54f",
    "_uuid": "db749e569bf9e69392f40fdd1086933006291756",
    "collapsed": true
   },
   "outputs": [],
   "source": [
    "#removing dulpicate columns \n",
    "_, i = np.unique(heroes_roles.columns, return_index=True)\n",
    "heroes_roles=heroes_roles.iloc[:, i] "
   ]
  },
  {
   "cell_type": "code",
   "execution_count": null,
   "metadata": {
    "_cell_guid": "2981d216-8665-4076-92fa-179877bccec5",
    "_uuid": "ac72824ed2ac008696588ab47b149dbdbf6c1ab3",
    "collapsed": true
   },
   "outputs": [],
   "source": [
    "heroes_roles.head()"
   ]
  },
  {
   "cell_type": "code",
   "execution_count": null,
   "metadata": {
    "_cell_guid": "5cd66279-0aaa-48ef-a084-9b84ec201606",
    "_uuid": "32e01f6a4b7cc4d52466d33325151b6b975174af",
    "collapsed": true
   },
   "outputs": [],
   "source": [
    "heroes_roles.describe().T"
   ]
  },
  {
   "cell_type": "code",
   "execution_count": null,
   "metadata": {
    "_cell_guid": "b016c752-6205-4a63-ab0f-7741d592e9f2",
    "_uuid": "14e0e53f900e7a78e8fb363f4ea3c2d0dfd75e0d",
    "collapsed": true
   },
   "outputs": [],
   "source": [
    "user_avg = train9[['user_id', 'kda_ratio']].groupby(['user_id']).agg('mean')\n",
    "user_avg.reset_index(inplace=True)\n",
    "user_avg.columns = ['user_id', 'kda_avg']"
   ]
  },
  {
   "cell_type": "code",
   "execution_count": null,
   "metadata": {
    "_cell_guid": "eb28e68d-cb8e-41f9-865d-f6fb22accd13",
    "_uuid": "473a217126436545697e8e9c56cdf0b814f02f09",
    "collapsed": true
   },
   "outputs": [],
   "source": [
    "user_avg.shape"
   ]
  },
  {
   "cell_type": "code",
   "execution_count": null,
   "metadata": {
    "_cell_guid": "82976fe4-9321-42e6-b371-97e5245107f4",
    "_uuid": "691f446e84d5381f13068bf74b8aaeaf0985413a",
    "collapsed": true
   },
   "outputs": [],
   "source": [
    "full_data_train = pd.concat([train9, train1])"
   ]
  },
  {
   "cell_type": "code",
   "execution_count": null,
   "metadata": {
    "_cell_guid": "d5b6d8cd-bafc-4a53-b71b-43966699425b",
    "_uuid": "f6e26bd2ca6253bd55fbceaa115dae59a02c370c",
    "collapsed": true
   },
   "outputs": [],
   "source": [
    "full_data_train.head()"
   ]
  },
  {
   "cell_type": "code",
   "execution_count": null,
   "metadata": {
    "_cell_guid": "9b777bcb-be0d-4a8a-897e-1dcde5a20ec4",
    "_uuid": "25edb697f1064112490e8d5d8713f1eae1a2ac8c",
    "collapsed": true
   },
   "outputs": [],
   "source": []
  },
  {
   "cell_type": "code",
   "execution_count": null,
   "metadata": {
    "_cell_guid": "03b2a136-ee3c-49e1-a655-ed86e9487b07",
    "_uuid": "2c75f5d10bfaad5b08e4ade3c17864656d9920f1",
    "collapsed": true
   },
   "outputs": [],
   "source": [
    "train_merge = pd.merge(full_data_train, heroes_roles, on=\"hero_id\")\n",
    "train_merge_avg = pd.merge(train_merge, user_avg, on=\"user_id\")\n",
    "train_merge = train_merge_avg"
   ]
  },
  {
   "cell_type": "code",
   "execution_count": null,
   "metadata": {
    "_cell_guid": "bf12640a-cf43-43ef-85f1-182cf27f417a",
    "_uuid": "811d2a56303300ef5dff52a23ba76aa6c5491d1b",
    "collapsed": true
   },
   "outputs": [],
   "source": [
    "#removing categorical features \n",
    "train_merge.drop(['id','num_wins'],axis=1,inplace=True)"
   ]
  },
  {
   "cell_type": "code",
   "execution_count": null,
   "metadata": {
    "_cell_guid": "8a4fb45f-cfc4-4cea-8c19-f4a385dccfb9",
    "_uuid": "380180764935c0b7d69ef4a3935aacb560a8ca5a",
    "collapsed": true
   },
   "outputs": [],
   "source": [
    "# train_merge.to_csv(\"output.csv\")"
   ]
  },
  {
   "cell_type": "code",
   "execution_count": null,
   "metadata": {
    "_cell_guid": "6dc9b5bc-e7af-43bb-a11c-5dbaea87c96e",
    "_uuid": "9d40a7e2c6f6856fd384061dd6665380978470c6",
    "collapsed": true
   },
   "outputs": [],
   "source": [
    "train = train_merge[train_merge['dataset'] == 'train9']\n",
    "test = train_merge[train_merge['dataset'] == 'train1']"
   ]
  },
  {
   "cell_type": "code",
   "execution_count": null,
   "metadata": {
    "_cell_guid": "d5aa4fc1-e3c1-44a4-ac28-c6e2475027f6",
    "_uuid": "5f02ed95f5d83e64d39ce16edcc8cc9b3d57edbd",
    "collapsed": true
   },
   "outputs": [],
   "source": [
    "#removing categorical features \n",
    "train.drop(['dataset'],axis=1,inplace=True)\n",
    "test.drop(['dataset'],axis=1,inplace=True)"
   ]
  },
  {
   "cell_type": "code",
   "execution_count": null,
   "metadata": {
    "_cell_guid": "4d8d8f32-2588-4b46-a20d-b294dca48fb2",
    "_uuid": "ddb1a081b2a17d0f494295ec538f1c1739d70717",
    "collapsed": true
   },
   "outputs": [],
   "source": [
    "x_train = train.drop('kda_ratio', axis=1)\n",
    "y_train = train.kda_ratio\n",
    "\n",
    "x_test = test.drop('kda_ratio', axis=1)\n",
    "y_test = test.kda_ratio"
   ]
  },
  {
   "cell_type": "code",
   "execution_count": null,
   "metadata": {
    "_cell_guid": "9fd54b51-019e-497c-b54f-59d66f0730e5",
    "_uuid": "207ba9e46f763acf77d69de19c8f97b365ff16c6",
    "collapsed": true
   },
   "outputs": [],
   "source": [
    "x_test.shape"
   ]
  },
  {
   "cell_type": "markdown",
   "metadata": {
    "_cell_guid": "118d6688-12cc-4b90-b6df-ac489a4fa147",
    "_uuid": "2a50591a3afb658f7ce72ef01cd8c501dfa9b063"
   },
   "source": [
    "### XGBoost Model"
   ]
  },
  {
   "cell_type": "code",
   "execution_count": null,
   "metadata": {
    "_cell_guid": "e1e116b8-2a5a-4e9e-9b3e-ffa7172be1d7",
    "_uuid": "8797cbdf8dd2bfa8b8e0aeca24e95562c0a196d1",
    "collapsed": true
   },
   "outputs": [],
   "source": [
    "#import lightgbm and xgboost \n",
    "import lightgbm as lgb \n",
    "import xgboost as xgb \n",
    "\n",
    "import numpy as np\n",
    "from sklearn.model_selection import KFold, train_test_split, GridSearchCV\n",
    "from sklearn.metrics import confusion_matrix, mean_squared_error\n",
    "from sklearn.datasets import load_iris, load_digits, load_boston\n",
    "\n",
    "%matplotlib inline\n",
    "import seaborn as sns\n",
    "import pandas as pd"
   ]
  },
  {
   "cell_type": "code",
   "execution_count": null,
   "metadata": {
    "_cell_guid": "7dabe091-8998-4406-9dcb-6fdc2b44c4d7",
    "_uuid": "d8df7ee3f11c4571c1483c6863e06399cdf8c779",
    "collapsed": true
   },
   "outputs": [],
   "source": [
    "#The data is stored in a DMatrix object \n",
    "#label is used to define our outcome variable\n",
    "dtrain=xgb.DMatrix(x_train,label=y_train)\n",
    "dtest=xgb.DMatrix(x_test)"
   ]
  },
  {
   "cell_type": "code",
   "execution_count": null,
   "metadata": {
    "_cell_guid": "21eea6fc-9cf0-4aa8-9c93-7b25e5eace8b",
    "_uuid": "bb739a37a8db7ae37b8517dfb7e52c6d9aa66894",
    "collapsed": true
   },
   "outputs": [],
   "source": [
    "# Test Start"
   ]
  },
  {
   "cell_type": "code",
   "execution_count": null,
   "metadata": {
    "_cell_guid": "94705f7b-37af-4ccd-8fba-6d882a85f24d",
    "_uuid": "88542bb8603879d22d9ea5ef335c8adf4cde6fab",
    "collapsed": true
   },
   "outputs": [],
   "source": [
    "xgb_model = xgb.XGBRegressor().fit(x_train, y_train)\n",
    "predictions = xgb_model.predict(x_test)\n",
    "actuals = y_test\n",
    "print(mean_squared_error(actuals, predictions))"
   ]
  },
  {
   "cell_type": "code",
   "execution_count": null,
   "metadata": {
    "_cell_guid": "3f6e9f7f-51ea-4e6a-bcc0-4d8f2c9a4d22",
    "_uuid": "8893aad8a87e39232b922878a8a89fc97c20b34d",
    "collapsed": true,
    "scrolled": false
   },
   "outputs": [],
   "source": [
    "print(\"Parameter optimization\")\n",
    "y = y_train\n",
    "X = x_train\n",
    "xgb_model = xgb.XGBRegressor()\n",
    "clf = GridSearchCV(xgb_model,\n",
    "                   {'max_depth': [6],\n",
    "                    'learning_rate': [0.05, 0.1, 0.3],\n",
    "                    'subsample': [0.9, 1.0],\n",
    "                    'colsample_bytree': [0.9, 1.0],\n",
    "                    'n_estimators': [500]}, verbose=1)\n",
    "clf.fit(X,y)\n",
    "print(clf.best_score_)\n",
    "print(clf.best_params_)"
   ]
  },
  {
   "cell_type": "code",
   "execution_count": null,
   "metadata": {
    "_cell_guid": "ba537ec5-cd3f-488c-9edd-91042ab3899a",
    "_uuid": "da5e6313139993ce9ad191565c1a5ff106609ea2",
    "collapsed": true
   },
   "outputs": [],
   "source": [
    "params = {\n",
    "    'max_depth': 6,\n",
    "    'n_estimators': 200\n",
    "}\n",
    "xgb_model = xgb.XGBRegressor(**params).fit(x_train, y_train)\n",
    "predictions = xgb_model.predict(x_test)\n",
    "actuals = y_test\n",
    "print(mean_squared_error(actuals, predictions))"
   ]
  },
  {
   "cell_type": "code",
   "execution_count": null,
   "metadata": {
    "_cell_guid": "c22fbef8-d2c0-4c4d-996f-c60bf30af655",
    "_uuid": "8188faa3da7a5e7817718189bc528c748aa43d2c",
    "collapsed": true
   },
   "outputs": [],
   "source": [
    "params = {\n",
    "    'max_depth': 6,\n",
    "    'n_estimators': 1000\n",
    "}\n",
    "xgb_model = xgb.XGBRegressor(**params).fit(x_train, y_train)\n",
    "predictions = xgb_model.predict(x_test)\n",
    "actuals = y_test\n",
    "print(mean_squared_error(actuals, predictions))"
   ]
  },
  {
   "cell_type": "code",
   "execution_count": null,
   "metadata": {
    "_cell_guid": "bff82319-788b-4b5f-8dfa-cb2dd89957a1",
    "_uuid": "dce58406b1663bc7d15f59534ea79aa4e2af4285",
    "collapsed": true
   },
   "outputs": [],
   "source": [
    "predictions"
   ]
  },
  {
   "cell_type": "code",
   "execution_count": null,
   "metadata": {
    "_cell_guid": "a77572a6-f4df-4b15-a3a7-70ef8c5bed93",
    "_uuid": "d679e87fb7ede4973b0f84d1e48284e607c1645c",
    "collapsed": true
   },
   "outputs": [],
   "source": [
    "params = {\n",
    "    'max_depth': 6,\n",
    "    'n_estimators': 5000\n",
    "}\n",
    "xgb_model = xgb.XGBRegressor(**params).fit(x_train, y_train)\n",
    "predictions = xgb_model.predict(x_test)\n",
    "actuals = y_test\n",
    "print(mean_squared_error(actuals, predictions))"
   ]
  },
  {
   "cell_type": "code",
   "execution_count": null,
   "metadata": {
    "_cell_guid": "839dbd4a-9bed-4aad-a5b7-aa5fec455c20",
    "_uuid": "bc9568bb4dbc365b7a5b7e3afc93b6ae0307a37d",
    "collapsed": true
   },
   "outputs": [],
   "source": [
    "params = {\n",
    "    'max_depth': 6,\n",
    "    'n_estimators': 1000,\n",
    "    'colsample_bytree': 1.0,\n",
    "    'learning_rate': 0.1,\n",
    "    'subsample': 0.9,\n",
    "    'eval_metric': 'rmse'\n",
    "}\n",
    "xgb_model = xgb.XGBRegressor(**params).fit(x_train, y_train)\n",
    "predictions = xgb_model.predict(x_test)\n",
    "actuals = y_test\n",
    "print(mean_squared_error(actuals, predictions))"
   ]
  },
  {
   "cell_type": "code",
   "execution_count": null,
   "metadata": {
    "_cell_guid": "6c52fd2c-9a33-44f6-a31f-ce6edee4913d",
    "_uuid": "bf7bc843139af076b39de5024b4b18ee48fd205c",
    "collapsed": true
   },
   "outputs": [],
   "source": [
    "# Test End"
   ]
  },
  {
   "cell_type": "code",
   "execution_count": null,
   "metadata": {
    "_cell_guid": "1f931186-0303-4993-b3e5-c61050235eb8",
    "_uuid": "1e36aff3772e7ecc8cf3819fce0ce301488ff198",
    "collapsed": true
   },
   "outputs": [],
   "source": [
    "#setting parameters for xgboost\n",
    "parameters={'max_depth':7, 'eta':1, 'silent':1,'objective':'reg:linear','eval_metric':'rmse','learning_rate':.05}\n",
    "num_round=10"
   ]
  },
  {
   "cell_type": "code",
   "execution_count": null,
   "metadata": {
    "_cell_guid": "cc7eab67-c251-47a6-99a9-1a98f87a670e",
    "_uuid": "80a154094e6b6c926e698e342bb95fa8548a8697",
    "collapsed": true
   },
   "outputs": [],
   "source": [
    "xg=xgb.train(parameters,dtrain,num_round) "
   ]
  },
  {
   "cell_type": "code",
   "execution_count": null,
   "metadata": {
    "_cell_guid": "eccf3ed9-7f1f-4540-8349-973f6834cd77",
    "_uuid": "9f5f10fc5ffac9a0f00bcc34484d941e8f8628c7",
    "collapsed": true
   },
   "outputs": [],
   "source": [
    "%pylab inline\n",
    "pylab.rcParams['figure.figsize'] = (10, 16)\n",
    "sns.set(font_scale = 2.5)\n",
    "xgb.plot_importance(xgb_model, importance_type='gain', xlabel='Gain')"
   ]
  },
  {
   "cell_type": "code",
   "execution_count": null,
   "metadata": {
    "_cell_guid": "6e69ca11-e3c2-4049-852b-8d0483c4fd52",
    "_uuid": "eb8e10397f98ebf9eac3be81050aac53686c1078",
    "collapsed": true
   },
   "outputs": [],
   "source": [
    "ypred=xg.predict(dtest) \n",
    "ypred"
   ]
  },
  {
   "cell_type": "code",
   "execution_count": null,
   "metadata": {
    "_cell_guid": "f45dcea5-57cb-4699-b72e-ec78698c7e79",
    "_uuid": "5cd1dda3d994438dcabf65e0359e80b47edc826d",
    "collapsed": true
   },
   "outputs": [],
   "source": [
    "print(mean_squared_error(y_test, ypred))"
   ]
  },
  {
   "cell_type": "markdown",
   "metadata": {
    "_cell_guid": "ceab7a08-ab09-4355-a7cf-86ca4b958dc3",
    "_uuid": "51e160cc9a10abb3e3b0a4fb3747518d6c9a38e2"
   },
   "source": [
    "### Predictions"
   ]
  },
  {
   "cell_type": "code",
   "execution_count": null,
   "metadata": {
    "_cell_guid": "75d0dd71-51e1-4024-b70f-2e3566f16e61",
    "_uuid": "774ab604a6c3724314f681720cf69843a9b09905",
    "collapsed": true
   },
   "outputs": [],
   "source": [
    "test9.shape"
   ]
  },
  {
   "cell_type": "code",
   "execution_count": null,
   "metadata": {
    "_cell_guid": "f09f3974-567b-4b0f-8a28-1eed78aab53e",
    "_uuid": "0c3a459e84668c11ef0526c74121e5a188fc8d96",
    "collapsed": true,
    "scrolled": true
   },
   "outputs": [],
   "source": [
    "test_user_avg = test9[['user_id', 'kda_ratio']].groupby(['user_id']).agg('mean')\n",
    "test_user_avg.reset_index(inplace=True)\n",
    "test_user_avg.columns = ['user_id', 'kda_avg']\n",
    "\n",
    "full_data_pred = pd.concat([test9, test1])\n",
    "pred_merge = pd.merge(full_data_pred, heroes_roles, on=\"hero_id\")\n",
    "pred_merge_avg = pd.merge(pred_merge, test_user_avg, on=\"user_id\")\n",
    "pred_merge = pred_merge_avg\n",
    "\n",
    "#removing categorical features \n",
    "pred_merge.drop(['id','num_wins'],axis=1,inplace=True)\n",
    "#pred_merge.drop(['id'],axis=1,inplace=True)\n",
    "\n",
    "pred_train = pred_merge[pred_merge['dataset'] == 'test9']\n",
    "pred_test = pred_merge[pred_merge['dataset'] == 'test1']\n",
    "\n",
    "#removing categorical features \n",
    "pred_train.drop(['dataset'],axis=1,inplace=True)\n",
    "pred_test.drop(['dataset'],axis=1,inplace=True)"
   ]
  },
  {
   "cell_type": "code",
   "execution_count": null,
   "metadata": {
    "_cell_guid": "568ac1ff-5c15-4895-a4af-abebd8514765",
    "_uuid": "4bf41388789eeefec21b79ab95f0ab88f550c356",
    "collapsed": true
   },
   "outputs": [],
   "source": [
    "x_pred_train = pred_train.drop('kda_ratio', axis=1)\n",
    "y_pred_train = pred_train.kda_ratio\n",
    "\n",
    "x_pred_test = pred_test.drop('kda_ratio', axis=1)\n",
    "\n",
    "#The data is stored in a DMatrix object \n",
    "#label is used to define our outcome variable\n",
    "dtrain_pred=xgb.DMatrix(x_pred_train,label=y_pred_train)\n",
    "dtest_pred=xgb.DMatrix(x_pred_test)"
   ]
  },
  {
   "cell_type": "code",
   "execution_count": null,
   "metadata": {
    "_cell_guid": "0b49e31e-85e9-44d6-9a3f-f8a3656292d1",
    "_uuid": "c43355e399267116a2f7462fbe28a019af4598d9",
    "collapsed": true
   },
   "outputs": [],
   "source": [
    "params = {\n",
    "    'max_depth': 6,\n",
    "    'n_estimators': 1000,\n",
    "    'colsample_bytree': 1.0,\n",
    "    'learning_rate': 0.1,\n",
    "    'subsample': 0.9,\n",
    "    'eval_metric': 'rmse'\n",
    "}\n",
    "xgb_model = xgb.XGBRegressor(**params).fit(x_pred_train, y_pred_train)\n",
    "predictions = xgb_model.predict(x_pred_test)\n",
    "#actuals = y_test\n",
    "#print(mean_squared_error(actuals, predictions))"
   ]
  },
  {
   "cell_type": "code",
   "execution_count": null,
   "metadata": {
    "_cell_guid": "cecdda3a-78c2-4568-90ea-d5012062f2b2",
    "_uuid": "e289b4dc0b143c727a26c77ca9982d714a9bf78f",
    "collapsed": true
   },
   "outputs": [],
   "source": [
    "predictions"
   ]
  },
  {
   "cell_type": "code",
   "execution_count": null,
   "metadata": {
    "_cell_guid": "38d0593a-be11-4125-ae4a-4557add806bc",
    "_uuid": "5214aa32b9c012451e32da0d521c83aa06750efd",
    "collapsed": true
   },
   "outputs": [],
   "source": [
    "xgb_model = xgb.XGBRegressor().fit(x_pred_train, y_pred_train)\n",
    "predictions = xgb_model.predict(x_pred_test)\n",
    "#actuals = y_test\n",
    "#print(mean_squared_error(actuals, predictions))"
   ]
  },
  {
   "cell_type": "code",
   "execution_count": null,
   "metadata": {
    "_cell_guid": "42fb42b8-eee8-4f38-9df6-7f6412a5ff0c",
    "_uuid": "aebfe8cdcfb1dbddee164a994618f5e46619202c",
    "collapsed": true
   },
   "outputs": [],
   "source": [
    "params = {\n",
    "    'max_depth': 6,\n",
    "    'n_estimators': 1000,\n",
    "    'colsample_bytree': 1.0,\n",
    "    'learning_rate': 0.1,\n",
    "    'subsample': 0.9\n",
    "}\n",
    "xgb_model = xgb.XGBRegressor(**params).fit(x_pred_train, y_pred_train)\n",
    "predictions = xgb_model.predict(x_pred_test)\n",
    "predictions"
   ]
  },
  {
   "cell_type": "code",
   "execution_count": null,
   "metadata": {
    "_cell_guid": "e78bcac9-542e-417a-8198-60cb37cb7cf9",
    "_uuid": "a9e1cb63b20ebf20cbd6360424438115aa99d8df",
    "collapsed": true
   },
   "outputs": [],
   "source": [
    "#setting parameters for xgboost\n",
    "parameters={'max_depth':7, 'eta':1, 'silent':1,'objective':'reg:linear','eval_metric':'rmse','learning_rate':.05}\n",
    "num_round=10"
   ]
  },
  {
   "cell_type": "code",
   "execution_count": null,
   "metadata": {
    "_cell_guid": "7138f601-23ec-4d25-80a0-32bf4010848c",
    "_uuid": "c7d5e83258128f2011930cd823014a9cd4f301c4",
    "collapsed": true
   },
   "outputs": [],
   "source": [
    "xg_pred=xgb.train(parameters,dtrain_pred,num_round) "
   ]
  },
  {
   "cell_type": "code",
   "execution_count": null,
   "metadata": {
    "_cell_guid": "92c7b0be-0f97-4251-a4b9-9b4102cfabf2",
    "_uuid": "f2943f8ee5ee578172bf5ec6f32f690f71cd91d7",
    "collapsed": true
   },
   "outputs": [],
   "source": [
    "ypred_final=xg_pred.predict(dtest_pred) \n",
    "ypred_final"
   ]
  },
  {
   "cell_type": "code",
   "execution_count": null,
   "metadata": {
    "_cell_guid": "ccc0c635-af3f-457c-aed6-7be5fcf64c52",
    "_uuid": "01c0f04754c4e60b6244434c0360cc22c4214fd3",
    "collapsed": true
   },
   "outputs": [],
   "source": [
    "submission = pd.DataFrame({ 'id': test1['id'],\n",
    "                            'kda_ratio': ypred_final })\n",
    "submission.to_csv(\"submission.csv\", index=False)"
   ]
  },
  {
   "cell_type": "markdown",
   "metadata": {
    "_cell_guid": "fe9b289e-3c31-4bf1-9a89-8dd8a3bb6719",
    "_uuid": "ebc91d7d2900e6d84ef4d01e7b21b7943e187b2d"
   },
   "source": [
    "### Light GBM"
   ]
  },
  {
   "cell_type": "code",
   "execution_count": null,
   "metadata": {
    "_cell_guid": "af3b5d99-6c24-4f7e-97f0-6b1e18e0f22a",
    "_uuid": "310204613d76e3c7b8563089dc9471c1000be157",
    "collapsed": true
   },
   "outputs": [],
   "source": [
    "#import lightgbm and xgboost \n",
    "import lightgbm as lgb "
   ]
  },
  {
   "cell_type": "code",
   "execution_count": null,
   "metadata": {
    "_cell_guid": "96d385bb-660f-41b7-8506-7c4771deb8a1",
    "_uuid": "3842f0c504a71fb83ff3df9f12fe2dd014d83e50",
    "collapsed": true
   },
   "outputs": [],
   "source": [
    "train_data_pred=lgb.Dataset(x_pred_train,label=y_pred_train)"
   ]
  },
  {
   "cell_type": "code",
   "execution_count": null,
   "metadata": {
    "_cell_guid": "b48033d5-64ec-475b-904f-da3307006586",
    "_uuid": "7d87847a62d37490bbd5a7b535a84182b5d7e2d7",
    "collapsed": true
   },
   "outputs": [],
   "source": [
    "#setting parameters for lightgbm\n",
    "param = {'num_leaves':150, 'objective':'regression','max_depth':7,'learning_rate':.05,'max_bin':200}\n",
    "param['metric'] = ['rmse']\n",
    "\n",
    "#training our model using light gbm\n",
    "num_round=50\n",
    "lgbm=lgb.train(param,train_data_pred,num_round)"
   ]
  },
  {
   "cell_type": "code",
   "execution_count": null,
   "metadata": {
    "_cell_guid": "3f6415cb-4ae2-42b8-8abc-afbcecf43211",
    "_uuid": "62fc1d97ebd112026fa47ec1919c6b232e19d897",
    "collapsed": true
   },
   "outputs": [],
   "source": [
    "# ALL"
   ]
  },
  {
   "cell_type": "code",
   "execution_count": null,
   "metadata": {
    "_cell_guid": "6a7c6f22-62c6-4db1-aca3-2c41d3550957",
    "_uuid": "3c2952a56e952ba9b121f003c1e5361d4bce65bd",
    "collapsed": true
   },
   "outputs": [],
   "source": [
    "col_order = ['hero_id', 'num_games', 'user_id', 'Melee', 'Ranged', 'agi', 'agility_gain', 'attack_range', 'attack_rate', 'base_agility', 'base_armor', 'base_attack_max', 'base_attack_min', 'base_health', 'base_health_regen', 'base_intelligence', 'base_magic_resistance', 'base_mana', 'base_mana_regen', 'base_strength', 'int', 'intelligence_gain', 'move_speed', 'projectile_speed', 'roles_Carry', 'roles_Disabler', 'roles_Durable', 'roles_Escape', 'roles_Initiator', 'roles_Jungler', 'roles_Nuker', 'roles_Pusher', 'roles_Support', 'str', 'strength_gain', 'turn_rate']\n",
    "\n",
    "x_train_all = pd.concat([x_train[col_order], x_pred_train[col_order]])\n",
    "y_train_all = pd.concat([y_train, y_pred_train])\n",
    "\n",
    "# x_test = test.drop('kda_ratio', axis=1)\n",
    "# y_test = test.kda_ratio\n",
    "#x_pred_test = pred_test.drop('kda_ratio', axis=1)\n",
    "\n",
    "dtrain_all=xgb.DMatrix(x_train_all,label=y_train_all)\n",
    "dtest=xgb.DMatrix(x_test)\n",
    "\n",
    "dtrain_pred=xgb.DMatrix(x_pred_train,label=y_pred_train)\n",
    "dtest_pred=xgb.DMatrix(x_pred_test)"
   ]
  },
  {
   "cell_type": "code",
   "execution_count": null,
   "metadata": {
    "_cell_guid": "8faa3d32-fd91-40ad-b252-bf16317ad590",
    "_uuid": "787322011d03f929797ed16a95ae83f47c332776",
    "collapsed": true
   },
   "outputs": [],
   "source": [
    " x_train[col_order].columns.tolist() == x_pred_train[col_order].columns.tolist()\n",
    "# x_train.columns.tolist()\n",
    "\n",
    "#pd.DataFrame(x_train.columns.tolist(), x_pred_train.columns.tolist())"
   ]
  },
  {
   "cell_type": "code",
   "execution_count": null,
   "metadata": {
    "_cell_guid": "838069da-8b92-4b72-9bc5-4c24361971f1",
    "_uuid": "aee7600706acbf17d8cf9610c6b07e9ffdf80c3d",
    "collapsed": true
   },
   "outputs": [],
   "source": [
    "params = {\n",
    "    'max_depth': 6,\n",
    "    'n_estimators': 200\n",
    "}\n",
    "xgb_model = xgb.XGBRegressor(**params).fit(x_train_all, y_train_all)"
   ]
  },
  {
   "cell_type": "code",
   "execution_count": null,
   "metadata": {
    "_cell_guid": "ea3063ab-e8ba-4ed6-a4f2-55f697be7d4f",
    "_uuid": "8ed6c92e5e37cd2c873646e59cd253b234f8fd5f",
    "collapsed": true
   },
   "outputs": [],
   "source": [
    "predictions = xgb_model.predict(x_test[col_order])\n",
    "actuals = y_test\n",
    "print(mean_squared_error(actuals, predictions))"
   ]
  },
  {
   "cell_type": "code",
   "execution_count": null,
   "metadata": {
    "_cell_guid": "3bf71fe3-e247-496d-b3dc-ff1c772bb353",
    "_uuid": "0aefdba6fd1b15b187379c386cf6d58de6549dd0",
    "collapsed": true
   },
   "outputs": [],
   "source": [
    "params = {\n",
    "    'max_depth': 6,\n",
    "    'n_estimators': 200\n",
    "}\n",
    "xgb_model = xgb.XGBRegressor(**params).fit(x_train_all, y_train_all)\n",
    "predictions = xgb_model.predict(x_pred_test)\n",
    "#actuals = y_test\n",
    "#print(mean_squared_error(actuals, predictions))"
   ]
  },
  {
   "cell_type": "code",
   "execution_count": null,
   "metadata": {
    "_cell_guid": "24d00d36-e94a-4d57-a5e1-74f7b7a8155b",
    "_uuid": "357b1e036474ba5bb081444663f3000245e80dd1",
    "collapsed": true
   },
   "outputs": [],
   "source": [
    "predictions"
   ]
  },
  {
   "cell_type": "code",
   "execution_count": null,
   "metadata": {
    "_cell_guid": "a60840da-99ca-4743-ab50-b878d9bdb89e",
    "_uuid": "7e710b9e2844e8a1b380e1636cf2368e72bc0fcb",
    "collapsed": true
   },
   "outputs": [],
   "source": []
  }
 ],
 "metadata": {
  "kernelspec": {
   "display_name": "Python 3",
   "language": "python",
   "name": "python3"
  },
  "language_info": {
   "codemirror_mode": {
    "name": "ipython",
    "version": 3
   },
   "file_extension": ".py",
   "mimetype": "text/x-python",
   "name": "python",
   "nbconvert_exporter": "python",
   "pygments_lexer": "ipython3",
   "version": "3.6.1"
  }
 },
 "nbformat": 4,
 "nbformat_minor": 1
}
